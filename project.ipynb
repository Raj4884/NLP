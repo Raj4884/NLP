{
 "cells": [
  {
   "cell_type": "markdown",
   "metadata": {},
   "source": [
    "📰 Fake News Detection using NLP  \n",
    "Author: Rakhi Mahendrasingh Rajput   \n",
    "Institution:SANJAY GHODAWAT UNIVERSITY \n",
    "Date:17 March 2025\n"
   ]
  },
  {
   "cell_type": "markdown",
   "metadata": {},
   "source": [
    "📌 Introduction  \n",
    "In today's digital era, fake news spreads rapidly, influencing public opinions and decisions. Our project aims to develop a machine learning model that detects fake news using Natural Language Processing (NLP).  \n",
    "\n",
    "🎯 Objectives  \n",
    "- Analyze news articles to determine authenticity.  \n",
    "- Use NLP techniques to preprocess textual data.  \n",
    "- Train a machine learning model for classification.  "
   ]
  },
  {
   "cell_type": "code",
   "execution_count": 43,
   "metadata": {},
   "outputs": [
    {
     "name": "stdout",
     "output_type": "stream",
     "text": [
      "WARNING:tensorflow:From C:\\Users\\vanra\\AppData\\Local\\Temp\\ipykernel_27304\\902974781.py:18: The name tf.enable_eager_execution is deprecated. Please use tf.compat.v1.enable_eager_execution instead.\n",
      "\n"
     ]
    }
   ],
   "source": [
    "import numpy as np\n",
    "import pandas as pd\n",
    "import json\n",
    "import csv\n",
    "import random\n",
    "\n",
    "from tensorflow.keras.preprocessing.text import Tokenizer\n",
    "from tensorflow.keras.preprocessing.sequence import pad_sequences\n",
    "from tensorflow.keras.utils import to_categorical\n",
    "from tensorflow.keras import regularizers\n",
    "\n",
    "import pprint\n",
    "import tensorflow.compat.v1 as tf\n",
    "from tensorflow.python.framework import ops\n",
    "from sklearn.model_selection import train_test_split\n",
    "from sklearn import preprocessing\n",
    "tf.disable_eager_execution()\n",
    "tf.compat.v1.enable_eager_execution()\n",
    "\n"
   ]
  },
  {
   "cell_type": "markdown",
   "metadata": {},
   "source": [
    "📂 Dataset  \n",
    " Name: Fake News Dataset  \n",
    " Source: Kaggle / Real-time web scraping  "
   ]
  },
  {
   "cell_type": "markdown",
   "metadata": {},
   "source": [
    "1️⃣ Data Collection  \n",
    "- Obtained a dataset from Kaggle or web scraping.  \n",
    "- Preprocessed text data for model training.  \n"
   ]
  },
  {
   "cell_type": "code",
   "execution_count": 44,
   "metadata": {},
   "outputs": [
    {
     "data": {
      "text/html": [
       "<div>\n",
       "<style scoped>\n",
       "    .dataframe tbody tr th:only-of-type {\n",
       "        vertical-align: middle;\n",
       "    }\n",
       "\n",
       "    .dataframe tbody tr th {\n",
       "        vertical-align: top;\n",
       "    }\n",
       "\n",
       "    .dataframe thead th {\n",
       "        text-align: right;\n",
       "    }\n",
       "</style>\n",
       "<table border=\"1\" class=\"dataframe\">\n",
       "  <thead>\n",
       "    <tr style=\"text-align: right;\">\n",
       "      <th></th>\n",
       "      <th>Unnamed: 0</th>\n",
       "      <th>title</th>\n",
       "      <th>text</th>\n",
       "      <th>label</th>\n",
       "    </tr>\n",
       "  </thead>\n",
       "  <tbody>\n",
       "    <tr>\n",
       "      <th>0</th>\n",
       "      <td>8476</td>\n",
       "      <td>You Can Smell Hillary’s Fear</td>\n",
       "      <td>Daniel Greenfield, a Shillman Journalism Fello...</td>\n",
       "      <td>FAKE</td>\n",
       "    </tr>\n",
       "    <tr>\n",
       "      <th>1</th>\n",
       "      <td>10294</td>\n",
       "      <td>Watch The Exact Moment Paul Ryan Committed Pol...</td>\n",
       "      <td>Google Pinterest Digg Linkedin Reddit Stumbleu...</td>\n",
       "      <td>FAKE</td>\n",
       "    </tr>\n",
       "    <tr>\n",
       "      <th>2</th>\n",
       "      <td>3608</td>\n",
       "      <td>Kerry to go to Paris in gesture of sympathy</td>\n",
       "      <td>U.S. Secretary of State John F. Kerry said Mon...</td>\n",
       "      <td>REAL</td>\n",
       "    </tr>\n",
       "    <tr>\n",
       "      <th>3</th>\n",
       "      <td>10142</td>\n",
       "      <td>Bernie supporters on Twitter erupt in anger ag...</td>\n",
       "      <td>— Kaydee King (@KaydeeKing) November 9, 2016 T...</td>\n",
       "      <td>FAKE</td>\n",
       "    </tr>\n",
       "    <tr>\n",
       "      <th>4</th>\n",
       "      <td>875</td>\n",
       "      <td>The Battle of New York: Why This Primary Matters</td>\n",
       "      <td>It's primary day in New York and front-runners...</td>\n",
       "      <td>REAL</td>\n",
       "    </tr>\n",
       "  </tbody>\n",
       "</table>\n",
       "</div>"
      ],
      "text/plain": [
       "   Unnamed: 0                                              title  \\\n",
       "0        8476                       You Can Smell Hillary’s Fear   \n",
       "1       10294  Watch The Exact Moment Paul Ryan Committed Pol...   \n",
       "2        3608        Kerry to go to Paris in gesture of sympathy   \n",
       "3       10142  Bernie supporters on Twitter erupt in anger ag...   \n",
       "4         875   The Battle of New York: Why This Primary Matters   \n",
       "\n",
       "                                                text label  \n",
       "0  Daniel Greenfield, a Shillman Journalism Fello...  FAKE  \n",
       "1  Google Pinterest Digg Linkedin Reddit Stumbleu...  FAKE  \n",
       "2  U.S. Secretary of State John F. Kerry said Mon...  REAL  \n",
       "3  — Kaydee King (@KaydeeKing) November 9, 2016 T...  FAKE  \n",
       "4  It's primary day in New York and front-runners...  REAL  "
      ]
     },
     "execution_count": 44,
     "metadata": {},
     "output_type": "execute_result"
    }
   ],
   "source": [
    "# Reading the data\n",
    "data = pd.read_csv(r\"E:\\fake news detection\\fake_or_real_news.csv\")\n",
    "data.head()"
   ]
  },
  {
   "cell_type": "code",
   "execution_count": 45,
   "metadata": {},
   "outputs": [
    {
     "data": {
      "text/html": [
       "<div>\n",
       "<style scoped>\n",
       "    .dataframe tbody tr th:only-of-type {\n",
       "        vertical-align: middle;\n",
       "    }\n",
       "\n",
       "    .dataframe tbody tr th {\n",
       "        vertical-align: top;\n",
       "    }\n",
       "\n",
       "    .dataframe thead th {\n",
       "        text-align: right;\n",
       "    }\n",
       "</style>\n",
       "<table border=\"1\" class=\"dataframe\">\n",
       "  <thead>\n",
       "    <tr style=\"text-align: right;\">\n",
       "      <th></th>\n",
       "      <th>title</th>\n",
       "      <th>text</th>\n",
       "      <th>label</th>\n",
       "    </tr>\n",
       "  </thead>\n",
       "  <tbody>\n",
       "    <tr>\n",
       "      <th>0</th>\n",
       "      <td>You Can Smell Hillary’s Fear</td>\n",
       "      <td>Daniel Greenfield, a Shillman Journalism Fello...</td>\n",
       "      <td>FAKE</td>\n",
       "    </tr>\n",
       "    <tr>\n",
       "      <th>1</th>\n",
       "      <td>Watch The Exact Moment Paul Ryan Committed Pol...</td>\n",
       "      <td>Google Pinterest Digg Linkedin Reddit Stumbleu...</td>\n",
       "      <td>FAKE</td>\n",
       "    </tr>\n",
       "    <tr>\n",
       "      <th>2</th>\n",
       "      <td>Kerry to go to Paris in gesture of sympathy</td>\n",
       "      <td>U.S. Secretary of State John F. Kerry said Mon...</td>\n",
       "      <td>REAL</td>\n",
       "    </tr>\n",
       "    <tr>\n",
       "      <th>3</th>\n",
       "      <td>Bernie supporters on Twitter erupt in anger ag...</td>\n",
       "      <td>— Kaydee King (@KaydeeKing) November 9, 2016 T...</td>\n",
       "      <td>FAKE</td>\n",
       "    </tr>\n",
       "    <tr>\n",
       "      <th>4</th>\n",
       "      <td>The Battle of New York: Why This Primary Matters</td>\n",
       "      <td>It's primary day in New York and front-runners...</td>\n",
       "      <td>REAL</td>\n",
       "    </tr>\n",
       "  </tbody>\n",
       "</table>\n",
       "</div>"
      ],
      "text/plain": [
       "                                               title  \\\n",
       "0                       You Can Smell Hillary’s Fear   \n",
       "1  Watch The Exact Moment Paul Ryan Committed Pol...   \n",
       "2        Kerry to go to Paris in gesture of sympathy   \n",
       "3  Bernie supporters on Twitter erupt in anger ag...   \n",
       "4   The Battle of New York: Why This Primary Matters   \n",
       "\n",
       "                                                text label  \n",
       "0  Daniel Greenfield, a Shillman Journalism Fello...  FAKE  \n",
       "1  Google Pinterest Digg Linkedin Reddit Stumbleu...  FAKE  \n",
       "2  U.S. Secretary of State John F. Kerry said Mon...  REAL  \n",
       "3  — Kaydee King (@KaydeeKing) November 9, 2016 T...  FAKE  \n",
       "4  It's primary day in New York and front-runners...  REAL  "
      ]
     },
     "execution_count": 45,
     "metadata": {},
     "output_type": "execute_result"
    }
   ],
   "source": [
    "data = data.drop([\"Unnamed: 0\"], axis=1)\n",
    "data.head(5)\n"
   ]
  },
  {
   "cell_type": "markdown",
   "metadata": {},
   "source": [
    "2️⃣ Data Preprocessing  \n",
    "- Removed stopwords, punctuation, and special characters.    \n",
    "- Vectorized text using Word Embeddings (Word2Vec).  \n"
   ]
  },
  {
   "cell_type": "code",
   "execution_count": 46,
   "metadata": {},
   "outputs": [],
   "source": [
    "# encoding the labels\n",
    "le = preprocessing.LabelEncoder()\n",
    "le.fit(data['label'])\n",
    "data['label'] = le.transform(data['label'])\n"
   ]
  },
  {
   "cell_type": "code",
   "execution_count": 47,
   "metadata": {},
   "outputs": [],
   "source": [
    "embedding_dim = 50\n",
    "max_length = 54\n",
    "trunc_type = 'post'\n",
    "padding_type = 'post'\n",
    "oov_tok = \"<OOV>\"\n",
    "training_size = 3000\n",
    "test_portion = .1\n"
   ]
  },
  {
   "cell_type": "markdown",
   "metadata": {},
   "source": [
    "Tokenization :-\n",
    "\n",
    "This process divides a large piece of continuous text into distinct units or tokens basically. Here we use columns separately for a temporal basis as a pipeline just for good accuracy."
   ]
  },
  {
   "cell_type": "code",
   "execution_count": 48,
   "metadata": {},
   "outputs": [],
   "source": [
    "title = []\n",
    "text = []\n",
    "labels = []\n",
    "for x in range(training_size):\n",
    "    title.append(data['title'][x])\n",
    "    text.append(data['text'][x])\n",
    "    labels.append(data['label'][x])\n"
   ]
  },
  {
   "cell_type": "code",
   "execution_count": 49,
   "metadata": {},
   "outputs": [],
   "source": [
    "tokenizer1 = Tokenizer()\n",
    "tokenizer1.fit_on_texts(title)\n",
    "word_index1 = tokenizer1.word_index\n",
    "vocab_size1 = len(word_index1)\n",
    "sequences1 = tokenizer1.texts_to_sequences(title)\n",
    "padded1 = pad_sequences(\n",
    "    sequences1,  padding=padding_type, truncating=trunc_type)\n",
    "split = int(test_portion * training_size)\n",
    "training_sequences1 = padded1[split:training_size]\n",
    "test_sequences1 = padded1[0:split]\n",
    "test_labels = labels[0:split]\n",
    "training_labels = labels[split:training_size]\n"
   ]
  },
  {
   "cell_type": "markdown",
   "metadata": {},
   "source": [
    "Generating Word Embedding:-\n",
    "\n",
    "It allows words with similar meanings to have a similar representation. Here each individual word is represented as real-valued vectors in a predefined vector space."
   ]
  },
  {
   "cell_type": "code",
   "execution_count": 50,
   "metadata": {},
   "outputs": [],
   "source": [
    "embeddings_index = {}\n",
    "with open(r'C:\\Users\\vanra\\Downloads\\glove.6B.50d.txt', encoding='utf-8') as f:            # Now open the file\n",
    "    for line in f:\n",
    "        values = line.split()\n",
    "        word = values[0]\n",
    "        coefs = np.asarray(values[1:], dtype='float32')\n",
    "        embeddings_index[word] = coefs\n",
    "\n",
    "# Generating embeddings\n",
    "embeddings_matrix = np.zeros((vocab_size1+1, embedding_dim))\n",
    "for word, i in word_index1.items():\n",
    "    embedding_vector = embeddings_index.get(word)\n",
    "    if embedding_vector is not None:\n",
    "        embeddings_matrix[i] = embedding_vector"
   ]
  },
  {
   "cell_type": "markdown",
   "metadata": {},
   "source": [
    "3️⃣ Model Selection  \n",
    "- Implemented  machine learning models\n",
    "  \n",
    "- Evaluated models based on accuracy, precision, recall, and F1-score"
   ]
  },
  {
   "cell_type": "code",
   "execution_count": 51,
   "metadata": {},
   "outputs": [
    {
     "name": "stderr",
     "output_type": "stream",
     "text": [
      "c:\\Users\\vanra\\AppData\\Local\\Programs\\Python\\Python312\\Lib\\site-packages\\keras\\src\\layers\\core\\embedding.py:90: UserWarning: Argument `input_length` is deprecated. Just remove it.\n",
      "  warnings.warn(\n"
     ]
    },
    {
     "data": {
      "text/html": [
       "<pre style=\"white-space:pre;overflow-x:auto;line-height:normal;font-family:Menlo,'DejaVu Sans Mono',consolas,'Courier New',monospace\"><span style=\"font-weight: bold\">Model: \"sequential\"</span>\n",
       "</pre>\n"
      ],
      "text/plain": [
       "\u001b[1mModel: \"sequential\"\u001b[0m\n"
      ]
     },
     "metadata": {},
     "output_type": "display_data"
    },
    {
     "data": {
      "text/html": [
       "<pre style=\"white-space:pre;overflow-x:auto;line-height:normal;font-family:Menlo,'DejaVu Sans Mono',consolas,'Courier New',monospace\">┏━━━━━━━━━━━━━━━━━━━━━━━━━━━━━━━━━┳━━━━━━━━━━━━━━━━━━━━━━━━┳━━━━━━━━━━━━━━━┓\n",
       "┃<span style=\"font-weight: bold\"> Layer (type)                    </span>┃<span style=\"font-weight: bold\"> Output Shape           </span>┃<span style=\"font-weight: bold\">       Param # </span>┃\n",
       "┡━━━━━━━━━━━━━━━━━━━━━━━━━━━━━━━━━╇━━━━━━━━━━━━━━━━━━━━━━━━╇━━━━━━━━━━━━━━━┩\n",
       "│ embedding (<span style=\"color: #0087ff; text-decoration-color: #0087ff\">Embedding</span>)           │ ?                      │       <span style=\"color: #00af00; text-decoration-color: #00af00\">377,600</span> │\n",
       "├─────────────────────────────────┼────────────────────────┼───────────────┤\n",
       "│ dropout (<span style=\"color: #0087ff; text-decoration-color: #0087ff\">Dropout</span>)               │ ?                      │             <span style=\"color: #00af00; text-decoration-color: #00af00\">0</span> │\n",
       "├─────────────────────────────────┼────────────────────────┼───────────────┤\n",
       "│ conv1d (<span style=\"color: #0087ff; text-decoration-color: #0087ff\">Conv1D</span>)                 │ ?                      │   <span style=\"color: #00af00; text-decoration-color: #00af00\">0</span> (unbuilt) │\n",
       "├─────────────────────────────────┼────────────────────────┼───────────────┤\n",
       "│ max_pooling1d (<span style=\"color: #0087ff; text-decoration-color: #0087ff\">MaxPooling1D</span>)    │ ?                      │             <span style=\"color: #00af00; text-decoration-color: #00af00\">0</span> │\n",
       "├─────────────────────────────────┼────────────────────────┼───────────────┤\n",
       "│ lstm (<span style=\"color: #0087ff; text-decoration-color: #0087ff\">LSTM</span>)                     │ ?                      │   <span style=\"color: #00af00; text-decoration-color: #00af00\">0</span> (unbuilt) │\n",
       "├─────────────────────────────────┼────────────────────────┼───────────────┤\n",
       "│ dense (<span style=\"color: #0087ff; text-decoration-color: #0087ff\">Dense</span>)                   │ ?                      │   <span style=\"color: #00af00; text-decoration-color: #00af00\">0</span> (unbuilt) │\n",
       "└─────────────────────────────────┴────────────────────────┴───────────────┘\n",
       "</pre>\n"
      ],
      "text/plain": [
       "┏━━━━━━━━━━━━━━━━━━━━━━━━━━━━━━━━━┳━━━━━━━━━━━━━━━━━━━━━━━━┳━━━━━━━━━━━━━━━┓\n",
       "┃\u001b[1m \u001b[0m\u001b[1mLayer (type)                   \u001b[0m\u001b[1m \u001b[0m┃\u001b[1m \u001b[0m\u001b[1mOutput Shape          \u001b[0m\u001b[1m \u001b[0m┃\u001b[1m \u001b[0m\u001b[1m      Param #\u001b[0m\u001b[1m \u001b[0m┃\n",
       "┡━━━━━━━━━━━━━━━━━━━━━━━━━━━━━━━━━╇━━━━━━━━━━━━━━━━━━━━━━━━╇━━━━━━━━━━━━━━━┩\n",
       "│ embedding (\u001b[38;5;33mEmbedding\u001b[0m)           │ ?                      │       \u001b[38;5;34m377,600\u001b[0m │\n",
       "├─────────────────────────────────┼────────────────────────┼───────────────┤\n",
       "│ dropout (\u001b[38;5;33mDropout\u001b[0m)               │ ?                      │             \u001b[38;5;34m0\u001b[0m │\n",
       "├─────────────────────────────────┼────────────────────────┼───────────────┤\n",
       "│ conv1d (\u001b[38;5;33mConv1D\u001b[0m)                 │ ?                      │   \u001b[38;5;34m0\u001b[0m (unbuilt) │\n",
       "├─────────────────────────────────┼────────────────────────┼───────────────┤\n",
       "│ max_pooling1d (\u001b[38;5;33mMaxPooling1D\u001b[0m)    │ ?                      │             \u001b[38;5;34m0\u001b[0m │\n",
       "├─────────────────────────────────┼────────────────────────┼───────────────┤\n",
       "│ lstm (\u001b[38;5;33mLSTM\u001b[0m)                     │ ?                      │   \u001b[38;5;34m0\u001b[0m (unbuilt) │\n",
       "├─────────────────────────────────┼────────────────────────┼───────────────┤\n",
       "│ dense (\u001b[38;5;33mDense\u001b[0m)                   │ ?                      │   \u001b[38;5;34m0\u001b[0m (unbuilt) │\n",
       "└─────────────────────────────────┴────────────────────────┴───────────────┘\n"
      ]
     },
     "metadata": {},
     "output_type": "display_data"
    },
    {
     "data": {
      "text/html": [
       "<pre style=\"white-space:pre;overflow-x:auto;line-height:normal;font-family:Menlo,'DejaVu Sans Mono',consolas,'Courier New',monospace\"><span style=\"font-weight: bold\"> Total params: </span><span style=\"color: #00af00; text-decoration-color: #00af00\">377,600</span> (1.44 MB)\n",
       "</pre>\n"
      ],
      "text/plain": [
       "\u001b[1m Total params: \u001b[0m\u001b[38;5;34m377,600\u001b[0m (1.44 MB)\n"
      ]
     },
     "metadata": {},
     "output_type": "display_data"
    },
    {
     "data": {
      "text/html": [
       "<pre style=\"white-space:pre;overflow-x:auto;line-height:normal;font-family:Menlo,'DejaVu Sans Mono',consolas,'Courier New',monospace\"><span style=\"font-weight: bold\"> Trainable params: </span><span style=\"color: #00af00; text-decoration-color: #00af00\">0</span> (0.00 B)\n",
       "</pre>\n"
      ],
      "text/plain": [
       "\u001b[1m Trainable params: \u001b[0m\u001b[38;5;34m0\u001b[0m (0.00 B)\n"
      ]
     },
     "metadata": {},
     "output_type": "display_data"
    },
    {
     "data": {
      "text/html": [
       "<pre style=\"white-space:pre;overflow-x:auto;line-height:normal;font-family:Menlo,'DejaVu Sans Mono',consolas,'Courier New',monospace\"><span style=\"font-weight: bold\"> Non-trainable params: </span><span style=\"color: #00af00; text-decoration-color: #00af00\">377,600</span> (1.44 MB)\n",
       "</pre>\n"
      ],
      "text/plain": [
       "\u001b[1m Non-trainable params: \u001b[0m\u001b[38;5;34m377,600\u001b[0m (1.44 MB)\n"
      ]
     },
     "metadata": {},
     "output_type": "display_data"
    }
   ],
   "source": [
    "model = tf.keras.Sequential([\n",
    "    tf.keras.layers.Embedding(vocab_size1+1, embedding_dim,\n",
    "                              input_length=max_length, weights=[\n",
    "                                  embeddings_matrix],\n",
    "                              trainable=False),\n",
    "    tf.keras.layers.Dropout(0.2),\n",
    "    tf.keras.layers.Conv1D(64, 5, activation='relu'),\n",
    "    tf.keras.layers.MaxPooling1D(pool_size=4),\n",
    "    tf.keras.layers.LSTM(64),\n",
    "    tf.keras.layers.Dense(1, activation='sigmoid')\n",
    "])\n",
    "model.compile(loss='binary_crossentropy',\n",
    "              optimizer='adam', metrics=['accuracy'])\n",
    "model.summary()\n"
   ]
  },
  {
   "cell_type": "markdown",
   "metadata": {},
   "source": [
    "4️⃣ Model Training & Evaluation  \n",
    "- Split data into training (80%) and testing (20%)sets.  \n",
    "- Trained models and tuned hyperparameters for better performance.  \n",
    "- Achieved 74% accuracy with the best-performing model.  \n"
   ]
  },
  {
   "cell_type": "code",
   "execution_count": 56,
   "metadata": {},
   "outputs": [
    {
     "name": "stdout",
     "output_type": "stream",
     "text": [
      "Epoch 1/50\n"
     ]
    },
    {
     "name": "stderr",
     "output_type": "stream",
     "text": [
      "c:\\Users\\vanra\\AppData\\Local\\Programs\\Python\\Python312\\Lib\\site-packages\\tensorflow\\python\\data\\ops\\structured_function.py:258: UserWarning: Even though the `tf.config.experimental_run_functions_eagerly` option is set, this option does not apply to tf.data functions. To force eager execution of tf.data functions, please use `tf.data.experimental.enable_debug_mode()`.\n",
      "  warnings.warn(\n"
     ]
    },
    {
     "name": "stdout",
     "output_type": "stream",
     "text": [
      "85/85 - 11s - 129ms/step - accuracy: 0.6167 - loss: 0.6421 - val_accuracy: 0.6900 - val_loss: 0.5597\n",
      "Epoch 2/50\n",
      "85/85 - 10s - 112ms/step - accuracy: 0.7070 - loss: 0.5711 - val_accuracy: 0.7000 - val_loss: 0.5368\n",
      "Epoch 3/50\n",
      "85/85 - 9s - 111ms/step - accuracy: 0.7330 - loss: 0.5246 - val_accuracy: 0.7167 - val_loss: 0.5125\n",
      "Epoch 4/50\n",
      "85/85 - 10s - 113ms/step - accuracy: 0.7693 - loss: 0.4827 - val_accuracy: 0.7300 - val_loss: 0.4899\n",
      "Epoch 5/50\n",
      "85/85 - 9s - 110ms/step - accuracy: 0.8137 - loss: 0.4189 - val_accuracy: 0.7067 - val_loss: 0.5686\n",
      "Epoch 6/50\n",
      "85/85 - 10s - 117ms/step - accuracy: 0.8156 - loss: 0.4012 - val_accuracy: 0.7633 - val_loss: 0.4798\n",
      "Epoch 7/50\n",
      "85/85 - 10s - 112ms/step - accuracy: 0.8389 - loss: 0.3665 - val_accuracy: 0.7667 - val_loss: 0.5119\n",
      "Epoch 8/50\n",
      "85/85 - 10s - 114ms/step - accuracy: 0.8619 - loss: 0.3327 - val_accuracy: 0.7467 - val_loss: 0.4883\n",
      "Epoch 9/50\n",
      "85/85 - 10s - 112ms/step - accuracy: 0.8830 - loss: 0.2947 - val_accuracy: 0.7367 - val_loss: 0.5153\n",
      "Epoch 10/50\n",
      "85/85 - 9s - 110ms/step - accuracy: 0.8900 - loss: 0.2708 - val_accuracy: 0.7767 - val_loss: 0.4947\n",
      "Epoch 11/50\n",
      "85/85 - 10s - 112ms/step - accuracy: 0.8970 - loss: 0.2647 - val_accuracy: 0.7767 - val_loss: 0.4817\n",
      "Epoch 12/50\n",
      "85/85 - 10s - 122ms/step - accuracy: 0.9081 - loss: 0.2353 - val_accuracy: 0.7400 - val_loss: 0.6262\n",
      "Epoch 13/50\n",
      "85/85 - 10s - 120ms/step - accuracy: 0.9174 - loss: 0.2074 - val_accuracy: 0.7400 - val_loss: 0.6825\n",
      "Epoch 14/50\n",
      "85/85 - 11s - 125ms/step - accuracy: 0.9111 - loss: 0.2200 - val_accuracy: 0.7567 - val_loss: 0.5983\n",
      "Epoch 15/50\n",
      "85/85 - 10s - 113ms/step - accuracy: 0.9267 - loss: 0.1873 - val_accuracy: 0.7733 - val_loss: 0.6133\n",
      "Epoch 16/50\n",
      "85/85 - 10s - 113ms/step - accuracy: 0.9293 - loss: 0.1747 - val_accuracy: 0.7800 - val_loss: 0.5606\n",
      "Epoch 17/50\n",
      "85/85 - 10s - 112ms/step - accuracy: 0.9307 - loss: 0.1823 - val_accuracy: 0.7633 - val_loss: 0.6439\n",
      "Epoch 18/50\n",
      "85/85 - 10s - 113ms/step - accuracy: 0.9493 - loss: 0.1370 - val_accuracy: 0.7633 - val_loss: 0.6966\n",
      "Epoch 19/50\n",
      "85/85 - 10s - 114ms/step - accuracy: 0.9393 - loss: 0.1522 - val_accuracy: 0.7667 - val_loss: 0.6108\n",
      "Epoch 20/50\n",
      "85/85 - 10s - 113ms/step - accuracy: 0.9559 - loss: 0.1268 - val_accuracy: 0.7367 - val_loss: 0.7099\n",
      "Epoch 21/50\n",
      "85/85 - 10s - 113ms/step - accuracy: 0.9493 - loss: 0.1382 - val_accuracy: 0.7833 - val_loss: 0.6438\n",
      "Epoch 22/50\n",
      "85/85 - 10s - 114ms/step - accuracy: 0.9544 - loss: 0.1290 - val_accuracy: 0.7767 - val_loss: 0.6658\n",
      "Epoch 23/50\n",
      "85/85 - 10s - 112ms/step - accuracy: 0.9493 - loss: 0.1294 - val_accuracy: 0.7900 - val_loss: 0.6145\n",
      "Epoch 24/50\n",
      "85/85 - 10s - 116ms/step - accuracy: 0.9537 - loss: 0.1294 - val_accuracy: 0.7933 - val_loss: 0.6556\n",
      "Epoch 25/50\n",
      "85/85 - 10s - 119ms/step - accuracy: 0.9519 - loss: 0.1154 - val_accuracy: 0.7433 - val_loss: 0.9327\n",
      "Epoch 26/50\n",
      "85/85 - 10s - 117ms/step - accuracy: 0.9585 - loss: 0.1209 - val_accuracy: 0.7433 - val_loss: 0.7501\n",
      "Epoch 27/50\n",
      "85/85 - 12s - 136ms/step - accuracy: 0.9693 - loss: 0.0816 - val_accuracy: 0.7800 - val_loss: 0.7374\n",
      "Epoch 28/50\n",
      "85/85 - 10s - 120ms/step - accuracy: 0.9615 - loss: 0.1062 - val_accuracy: 0.7733 - val_loss: 0.6654\n",
      "Epoch 29/50\n",
      "85/85 - 10s - 121ms/step - accuracy: 0.9652 - loss: 0.0939 - val_accuracy: 0.7733 - val_loss: 0.7578\n",
      "Epoch 30/50\n",
      "85/85 - 10s - 120ms/step - accuracy: 0.9656 - loss: 0.0905 - val_accuracy: 0.7333 - val_loss: 0.9451\n",
      "Epoch 31/50\n",
      "85/85 - 9s - 111ms/step - accuracy: 0.9693 - loss: 0.0932 - val_accuracy: 0.7367 - val_loss: 0.8883\n",
      "Epoch 32/50\n",
      "85/85 - 11s - 128ms/step - accuracy: 0.9663 - loss: 0.0844 - val_accuracy: 0.7567 - val_loss: 0.7699\n",
      "Epoch 33/50\n",
      "85/85 - 10s - 116ms/step - accuracy: 0.9678 - loss: 0.0836 - val_accuracy: 0.7500 - val_loss: 0.8498\n",
      "Epoch 34/50\n",
      "85/85 - 11s - 130ms/step - accuracy: 0.9656 - loss: 0.0961 - val_accuracy: 0.7567 - val_loss: 0.8441\n",
      "Epoch 35/50\n",
      "85/85 - 11s - 131ms/step - accuracy: 0.9774 - loss: 0.0671 - val_accuracy: 0.7400 - val_loss: 1.0166\n",
      "Epoch 36/50\n",
      "85/85 - 10s - 119ms/step - accuracy: 0.9711 - loss: 0.0782 - val_accuracy: 0.7633 - val_loss: 0.8134\n",
      "Epoch 37/50\n",
      "85/85 - 10s - 118ms/step - accuracy: 0.9700 - loss: 0.0776 - val_accuracy: 0.7600 - val_loss: 0.8130\n",
      "Epoch 38/50\n",
      "85/85 - 10s - 115ms/step - accuracy: 0.9722 - loss: 0.0777 - val_accuracy: 0.7500 - val_loss: 0.9241\n",
      "Epoch 39/50\n",
      "85/85 - 10s - 117ms/step - accuracy: 0.9678 - loss: 0.0826 - val_accuracy: 0.7200 - val_loss: 0.8776\n",
      "Epoch 40/50\n",
      "85/85 - 10s - 117ms/step - accuracy: 0.9689 - loss: 0.0788 - val_accuracy: 0.7467 - val_loss: 1.0307\n",
      "Epoch 41/50\n",
      "85/85 - 10s - 113ms/step - accuracy: 0.9693 - loss: 0.0863 - val_accuracy: 0.7033 - val_loss: 0.8505\n",
      "Epoch 42/50\n",
      "85/85 - 10s - 115ms/step - accuracy: 0.9741 - loss: 0.0746 - val_accuracy: 0.7467 - val_loss: 0.8309\n",
      "Epoch 43/50\n",
      "85/85 - 10s - 113ms/step - accuracy: 0.9778 - loss: 0.0620 - val_accuracy: 0.7300 - val_loss: 0.8740\n",
      "Epoch 44/50\n",
      "85/85 - 10s - 117ms/step - accuracy: 0.9800 - loss: 0.0536 - val_accuracy: 0.7400 - val_loss: 1.0101\n",
      "Epoch 45/50\n",
      "85/85 - 10s - 116ms/step - accuracy: 0.9815 - loss: 0.0583 - val_accuracy: 0.7433 - val_loss: 0.8338\n",
      "Epoch 46/50\n",
      "85/85 - 9s - 107ms/step - accuracy: 0.9767 - loss: 0.0678 - val_accuracy: 0.7200 - val_loss: 0.8258\n",
      "Epoch 47/50\n",
      "85/85 - 9s - 104ms/step - accuracy: 0.9759 - loss: 0.0676 - val_accuracy: 0.7267 - val_loss: 0.8236\n",
      "Epoch 48/50\n",
      "85/85 - 9s - 104ms/step - accuracy: 0.9807 - loss: 0.0555 - val_accuracy: 0.7200 - val_loss: 0.9414\n",
      "Epoch 49/50\n",
      "85/85 - 9s - 105ms/step - accuracy: 0.9759 - loss: 0.0650 - val_accuracy: 0.7200 - val_loss: 1.0290\n",
      "Epoch 50/50\n",
      "85/85 - 9s - 105ms/step - accuracy: 0.9748 - loss: 0.0694 - val_accuracy: 0.7433 - val_loss: 1.0919\n",
      "Training Complete\n"
     ]
    }
   ],
   "source": [
    "num_epochs = 50\n",
    "\n",
    "training_padded = np.array(training_sequences1)\n",
    "training_labels = np.array(training_labels)\n",
    "testing_padded = np.array(test_sequences1)\n",
    "testing_labels = np.array(test_labels)\n",
    "\n",
    "history = model.fit(training_padded, training_labels, epochs=num_epochs, validation_data=(testing_padded, testing_labels), verbose=2)\n",
    "\n",
    "print(\"Training Complete\")"
   ]
  },
  {
   "cell_type": "code",
   "execution_count": 61,
   "metadata": {},
   "outputs": [
    {
     "name": "stdout",
     "output_type": "stream",
     "text": [
      "\u001b[1m 1/10\u001b[0m \u001b[32m━━\u001b[0m\u001b[37m━━━━━━━━━━━━━━━━━━\u001b[0m \u001b[1m0s\u001b[0m 83ms/step"
     ]
    },
    {
     "name": "stderr",
     "output_type": "stream",
     "text": [
      "c:\\Users\\vanra\\AppData\\Local\\Programs\\Python\\Python312\\Lib\\site-packages\\tensorflow\\python\\data\\ops\\structured_function.py:258: UserWarning: Even though the `tf.config.experimental_run_functions_eagerly` option is set, this option does not apply to tf.data functions. To force eager execution of tf.data functions, please use `tf.data.experimental.enable_debug_mode()`.\n",
      "  warnings.warn(\n"
     ]
    },
    {
     "name": "stdout",
     "output_type": "stream",
     "text": [
      "\u001b[1m10/10\u001b[0m \u001b[32m━━━━━━━━━━━━━━━━━━━━\u001b[0m\u001b[37m\u001b[0m \u001b[1m1s\u001b[0m 53ms/step\n",
      "✅ Model Evaluation Results:\n",
      "📌 Accuracy: 74.33%\n",
      "📌 Precision: 75.48%\n",
      "📌 Recall: 75.00%\n",
      "📌 F1-Score: 75.24%\n",
      "  Model Accuracy Precision  Recall F1-Score\n",
      "0  LSTM   74.33%    75.48%  75.00%   75.24%\n"
     ]
    }
   ],
   "source": [
    "from sklearn.metrics import accuracy_score, precision_score, recall_score, f1_score\n",
    "\n",
    "# Get model predictions (probabilities)\n",
    "y_pred_probs = model.predict(testing_padded)\n",
    "\n",
    "# Convert probabilities to binary predictions (assuming binary classification)\n",
    "y_pred = (y_pred_probs > 0.5).astype(int)\n",
    "\n",
    "# Compute accuracy, precision, recall, and F1-score\n",
    "accuracy = accuracy_score(testing_labels, y_pred)\n",
    "precision = precision_score(testing_labels, y_pred)\n",
    "recall = recall_score(testing_labels, y_pred)\n",
    "f1 = f1_score(testing_labels, y_pred)\n",
    "\n",
    "# Print results\n",
    "print(f\"✅ Model Evaluation Results:\")\n",
    "print(f\"📌 Accuracy: {accuracy:.2%}\")\n",
    "print(f\"📌 Precision: {precision:.2%}\")\n",
    "print(f\"📌 Recall: {recall:.2%}\")\n",
    "print(f\"📌 F1-Score: {f1:.2%}\")\n",
    "\n",
    "# Store results in a dictionary\n",
    "results = {\n",
    "    \"Model\": \"LSTM\",\n",
    "    \"Accuracy\": f\"{accuracy:.2%}\",\n",
    "    \"Precision\": f\"{precision:.2%}\",\n",
    "    \"Recall\": f\"{recall:.2%}\",\n",
    "    \"F1-Score\": f\"{f1:.2%}\"\n",
    "}\n",
    "\n",
    "# Display results in a table format\n",
    "import pandas as pd\n",
    "df_results = pd.DataFrame([results])\n",
    "print(df_results)\n"
   ]
  },
  {
   "cell_type": "markdown",
   "metadata": {},
   "source": [
    "Model Evaluation and Prediction:-\n",
    "\n",
    "Now, the detection model is built using TensorFlow. Now we will try to test the model by using some news text by predicting whether it is true or false."
   ]
  },
  {
   "cell_type": "code",
   "execution_count": 57,
   "metadata": {},
   "outputs": [
    {
     "name": "stdout",
     "output_type": "stream",
     "text": [
      "This news is false\n"
     ]
    }
   ],
   "source": [
    "# sample text to check if fake or not\n",
    "X = \"Karry to go to France in gesture of sympathy\"\n",
    "\n",
    "# detection\n",
    "sequences = tokenizer1.texts_to_sequences([X])[0]\n",
    "sequences = pad_sequences([sequences], maxlen=54,\n",
    "                          padding=padding_type, \n",
    "                          truncating=trunc_type)\n",
    "if(model.predict(sequences, verbose=0)[0][0] >= 0.5):\n",
    "    print(\"This news is True\")\n",
    "else:\n",
    "    print(\"This news is false\")\n"
   ]
  },
  {
   "cell_type": "markdown",
   "metadata": {},
   "source": [
    "🚀 Future Scope  \n",
    "- Improve model with advanced transformers (GPT-based models)  \n",
    "- Extend dataset for better generalization.  \n",
    "- Integrate with social media monitoring tools."
   ]
  },
  {
   "cell_type": "markdown",
   "metadata": {},
   "source": [
    "📜 References  \n",
    "- Research Papers & Articles  \n",
    "- Kaggle Dataset Link  \n",
    "- NLP Libraries Documentation  "
   ]
  },
  {
   "cell_type": "markdown",
   "metadata": {},
   "source": [
    "📌 Conclusion  \n",
    "Our fake news detection model successfully identifies unreliable news sources using NLP techniques. The project showcases the power of AI in combating misinformation in the digital age.  "
   ]
  },
  {
   "cell_type": "markdown",
   "metadata": {},
   "source": [
    "🔗 [https://github.com/Rakhii24]  \n",
    "📧 [rajputrakhi2409@gmail.com] "
   ]
  }
 ],
 "metadata": {
  "kernelspec": {
   "display_name": "Python 3",
   "language": "python",
   "name": "python3"
  },
  "language_info": {
   "codemirror_mode": {
    "name": "ipython",
    "version": 3
   },
   "file_extension": ".py",
   "mimetype": "text/x-python",
   "name": "python",
   "nbconvert_exporter": "python",
   "pygments_lexer": "ipython3",
   "version": "3.12.8"
  }
 },
 "nbformat": 4,
 "nbformat_minor": 2
}
